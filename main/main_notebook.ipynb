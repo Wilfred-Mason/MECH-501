{
 "cells": [
  {
   "cell_type": "markdown",
   "id": "1bc45d4e-a3b9-41a8-8365-b4908ee4f76d",
   "metadata": {},
   "source": [
    "# Project Selection\n",
    "## Topic Selection\n",
    "- **Overal idea**: Texture classification using contact microphone data from robotic hand\n",
    "- **Analysis approaches**:\n",
    "  - 1D Convolutional Neural Network (CNN) on time-series data\n",
    "  - 2D CNN on spectrogram\n",
    "  - Hidden Markov Model (HMM) on time-series\n",
    "  - HMM on spectrogram\n",
    "- **Problem statement**: Can CNNs outperform HMM models for texture classification tasks on acoustic contact-sensing data gathered from a robotic hand\n",
    "- **Relevant resources**:\n",
    "  - [AU Dataset for Visuo-Haptic Object Recognition for Robots](https://arxiv.org/pdf/2112.13761.pdf)\n",
    "  - [Publicly available datatset](https://figshare.com/articles/dataset/AU_Dataset_for_Visuo-Haptic_Object_Recognition_for_Robots/14222486)\n",
    "  - [Another publicly available dataset](https://arxiv.org/pdf/2307.00937.pdf)\n",
    "- **Precedent literature**:\n",
    "  - [Journal: identifying pill type based on acoustic data gathered via shaking motion](https://tams.informatik.uni-hamburg.de/people/jonetzko/publications/jonetzko2020multimodal.pdf)\n",
    "  - [Object classification with transmission acoustic sensing (Prof. Culbertson)](https://arxiv.org/pdf/2308.01600.pdf)\n",
    "  - [Fabric classification based on acoustic data gathered via sliding motion (dataset avilable)](https://www.frontiersin.org/articles/10.3389/fnbot.2022.808222/full) "
   ]
  },
  {
   "cell_type": "code",
   "execution_count": 1,
   "id": "48cbf294-866b-4a84-bb01-b0381eabfdb8",
   "metadata": {},
   "outputs": [
    {
     "ename": "ModuleNotFoundError",
     "evalue": "No module named 'torch'",
     "output_type": "error",
     "traceback": [
      "\u001b[1;31m---------------------------------------------------------------------------\u001b[0m",
      "\u001b[1;31mModuleNotFoundError\u001b[0m                       Traceback (most recent call last)",
      "\u001b[1;32mc:\\Users\\wilfr\\Documents\\Graduate Research\\MECH-501\\Assignment_2\\MECH-501\\main\\main_notebook.ipynb Cell 2\u001b[0m line \u001b[0;36m1\n\u001b[1;32m----> <a href='vscode-notebook-cell:/c%3A/Users/wilfr/Documents/Graduate%20Research/MECH-501/Assignment_2/MECH-501/main/main_notebook.ipynb#W1sZmlsZQ%3D%3D?line=0'>1</a>\u001b[0m \u001b[39mimport\u001b[39;00m \u001b[39mtorch\u001b[39;00m\n\u001b[0;32m      <a href='vscode-notebook-cell:/c%3A/Users/wilfr/Documents/Graduate%20Research/MECH-501/Assignment_2/MECH-501/main/main_notebook.ipynb#W1sZmlsZQ%3D%3D?line=1'>2</a>\u001b[0m x \u001b[39m=\u001b[39m torch\u001b[39m.\u001b[39mrand(\u001b[39m5\u001b[39m, \u001b[39m3\u001b[39m)\n\u001b[0;32m      <a href='vscode-notebook-cell:/c%3A/Users/wilfr/Documents/Graduate%20Research/MECH-501/Assignment_2/MECH-501/main/main_notebook.ipynb#W1sZmlsZQ%3D%3D?line=2'>3</a>\u001b[0m \u001b[39mprint\u001b[39m(x)\n",
      "\u001b[1;31mModuleNotFoundError\u001b[0m: No module named 'torch'"
     ]
    }
   ],
   "source": [
    "import torch\n",
    "x = torch.rand(5, 3)\n",
    "print(x)"
   ]
  }
 ],
 "metadata": {
  "kernelspec": {
   "display_name": "Python 3 (ipykernel)",
   "language": "python",
   "name": "python3"
  },
  "language_info": {
   "codemirror_mode": {
    "name": "ipython",
    "version": 3
   },
   "file_extension": ".py",
   "mimetype": "text/x-python",
   "name": "python",
   "nbconvert_exporter": "python",
   "pygments_lexer": "ipython3",
   "version": "3.9.13"
  }
 },
 "nbformat": 4,
 "nbformat_minor": 5
}
