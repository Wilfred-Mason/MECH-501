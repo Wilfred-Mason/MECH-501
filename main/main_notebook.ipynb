{
 "cells": [
  {
   "cell_type": "markdown",
   "id": "1bc45d4e-a3b9-41a8-8365-b4908ee4f76d",
   "metadata": {},
   "source": [
    "# Project Selection\n",
    "## Topic Selection\n",
    "- **Overal idea**: Texture classification using contact microphone data from robotic hand\n",
    "- **Analysis approaches**:\n",
    "  - 1D Convolutional Neural Network (CNN) on time-series data\n",
    "  - 2D CNN on spectrogram\n",
    "  - Hidden Markov Model (HMM) on time-series\n",
    "  - HMM on spectrogram\n",
    "- **Problem statement**: Can CNNs outperform HMM models for texture classification tasks on acoustic contact-sensing data gathered from a robotic hand\n",
    "- **Relevant resources**:\n",
    "  - [AU Dataset for Visuo-Haptic Object Recognition for Robots](https://arxiv.org/pdf/2112.13761.pdf)\n",
    "  - [Publicly available datatset](https://figshare.com/articles/dataset/AU_Dataset_for_Visuo-Haptic_Object_Recognition_for_Robots/14222486)\n",
    "  - [Another publicly available dataset](https://arxiv.org/pdf/2307.00937.pdf)\n",
    "- **Precedent literature**:\n",
    "  - [Journal: identifying pill type based on acoustic data gathered via shaking motion](https://tams.informatik.uni-hamburg.de/people/jonetzko/publications/jonetzko2020multimodal.pdf)\n",
    "  - [Object classification with transmission acoustic sensing (Prof. Culbertson)](https://arxiv.org/pdf/2308.01600.pdf)\n",
    "  - [Fabric classification based on acoustic data gathered via sliding motion (dataset avilable)](https://www.frontiersin.org/articles/10.3389/fnbot.2022.808222/full) "
   ]
  },
  {
   "cell_type": "code",
   "execution_count": null,
   "id": "48cbf294-866b-4a84-bb01-b0381eabfdb8",
   "metadata": {},
   "outputs": [],
   "source": []
  }
 ],
 "metadata": {
  "kernelspec": {
   "display_name": "Python 3 (ipykernel)",
   "language": "python",
   "name": "python3"
  },
  "language_info": {
   "codemirror_mode": {
    "name": "ipython",
    "version": 3
   },
   "file_extension": ".py",
   "mimetype": "text/x-python",
   "name": "python",
   "nbconvert_exporter": "python",
   "pygments_lexer": "ipython3",
   "version": "3.9.13"
  }
 },
 "nbformat": 4,
 "nbformat_minor": 5
}
