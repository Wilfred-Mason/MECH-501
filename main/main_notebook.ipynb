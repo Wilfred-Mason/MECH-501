{
 "cells": [
  {
   "cell_type": "code",
   "execution_count": 24,
   "metadata": {},
   "outputs": [],
   "source": [
    "#import modules\n",
    "import torch\n",
    "import numpy as np\n",
    "from scipy import signal"
   ]
  },
  {
   "cell_type": "code",
   "execution_count": 27,
   "metadata": {},
   "outputs": [],
   "source": [
    "#functions for noise spectrum estimation/subtraction and scaling\n",
    "#adapted from: https://abhipray.com/posts/sigproc/classic_speech_enhancement/spectral_subtraction/\n",
    "\n",
    "def signal_to_frames(y: np.array, m, hop_size, fs) -> np.array:\n",
    "    #time-series -> FFT -> Y[m]   \n",
    "    _, _, Y = signal.stft(y, fs=fs, nperseg=m, noverlap=hop_size, nfft=m*8)\n",
    "\n",
    "    return Y.T\n",
    "\n",
    "def frames_to_signal(Y: np.array, m, hop_size, fs) -> np.array:\n",
    "    #Y[m] -> IFFT -> time-series\n",
    "    _, y = signal.istft(Y.T, fs=fs, nperseg=m, noverlap=hop_size, nfft=m*8)\n",
    "\n",
    "    return y\n",
    "\n",
    "def noise_spectrum_estimator(Y: np.array, N) -> (np.array):\n",
    "    Dm = np.zeros(Y.shape) #noise estimate (magnitude: m)\n",
    "    Dp = np.zeros(Y.shape) #noise estimate (power: p)\n",
    "    a = 25 #scaling parameter for SNR estimation\n",
    "\n",
    "    for m in range(Y.shape[0]):\n",
    "        if m < N:\n",
    "            #first N windows contain noise only\n",
    "            Dm[m] = abs(Y[m])\n",
    "            Dp[m] = Dm[m] ** 2\n",
    "        else:\n",
    "            #m-N windows contained noise + signal\n",
    "            aSNR = (abs(Y[m]) ** 2)/np.mean(abs(Y[m-N:m]) ** 2, axis=0) #a-posteriori SNR\n",
    "            alpha = 1/(1 + np.exp(-a * (aSNR - 1.5)))\n",
    "            Dm[m] = alpha * abs(est_Mn[m - 1]) + (1 - alpha) * abs(Y[m])\n",
    "            Dp[m] = alpha * (abs(est_Mn[m - 1]) ** 2) + (1 - alpha)*(abs(Y[m]) ** 2)\n",
    "\n",
    "    return Dp\n",
    "\n",
    "def noise_subtraction(Y: np.array, Dp: np.array) -> np.array:\n",
    "    Xm = np.maximum(abs(Y) ** 2 - Dp, 0) #magnitude of the de-noised signal\n",
    "    Xp = np.angle(Y) #phase of the de-noised signal\n",
    "    X = np.sqrt(Xm) * np.exp(1j * Xp)\n",
    "\n",
    "    return X\n",
    "\n",
    "def scaling(y: np.array) -> np.array:\n",
    "    ys = np.zeros(y.shape)\n",
    "    m = np.mean(y)\n",
    "    std = np.std(y)\n",
    "    ys = (ys - m) // std\n",
    "\n",
    "    return ys\n",
    "\n",
    "def"
   ]
  }
 ],
 "metadata": {
  "language_info": {
   "name": "python"
  }
 },
 "nbformat": 4,
 "nbformat_minor": 2
}
