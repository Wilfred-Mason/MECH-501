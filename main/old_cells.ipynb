{
 "cells": [
  {
   "cell_type": "code",
   "execution_count": null,
   "metadata": {},
   "outputs": [],
   "source": [
    "fig = plt.figure()\n",
    "ax = plt.subplot(111)\n",
    "ax.set_title(\"Observation Likelihood vs. Num. Hidden States\")\n",
    "colormap = plt.colormaps['Reds']\n",
    "color_offset = 0.2\n",
    "\n",
    "for object_num in range(0, objects):\n",
    "    color_value = (object_num / (objects - 1)) * (1 - color_offset) + color_offset\n",
    "    color = colormap(color_value)\n",
    "\n",
    "    ax.plot(hidden_states_set, scores_all[object_num], \"-o\", label=f\"Object {object_num + 1}\", color=color)\n",
    "    ax.set_xticks(hidden_states_set)\n",
    "    ax.set_xlabel(\"Number of Hidden States\")\n",
    "    ax.set_ylabel(\"Observation Likelihood\")\n",
    "\n",
    "ax.legend(loc=\"lower right\")"
   ]
  },
  {
   "cell_type": "code",
   "execution_count": null,
   "metadata": {},
   "outputs": [],
   "source": [
    "fig = plt.figure()\n",
    "ax = plt.subplot(111)\n",
    "ax.set_title(\"Change in Observation Likelihood vs. Num. Hidden States\")\n",
    "colormap = plt.colormaps['Reds']\n",
    "color_offset = 0.2\n",
    "\n",
    "for object_num in range(0, objects):\n",
    "    diff = []\n",
    "    diff = [scores_all[object_num][i] - scores_all[object_num][i-1] for i in range(1, len(hidden_states_set))]\n",
    "    \n",
    "    color_value = (object_num / (objects - 1)) * (1 - color_offset) + color_offset\n",
    "    color = colormap(color_value)\n",
    "    \n",
    "    ax.plot(hidden_states_set[1:], diff, \"-o\", label=f\"Object {object_num + 1}\", color=color)\n",
    "    ax.set_xticks(hidden_states_set)\n",
    "    ax.set_xlabel(\"Number of Hidden States\")\n",
    "    ax.set_ylabel(\"Change in Observation Likelihood\")\n",
    "\n",
    "ax.legend(loc=\"upper right\")"
   ]
  }
 ],
 "metadata": {
  "language_info": {
   "name": "python"
  }
 },
 "nbformat": 4,
 "nbformat_minor": 2
}
